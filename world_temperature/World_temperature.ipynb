{
 "cells": [
  {
   "cell_type": "code",
   "execution_count": 1,
   "metadata": {
    "collapsed": true
   },
   "outputs": [],
   "source": [
    "import plotly.offline as py\n",
    "import pandas as pd\n",
    "import ast\n",
    "import pycountry\n",
    "from weather_data import get_temperature"
   ]
  },
  {
   "cell_type": "code",
   "execution_count": 10,
   "metadata": {
    "collapsed": true
   },
   "outputs": [],
   "source": [
    "# temperature_data = get_temperature()\n",
    "temperature = []\n",
    "\n",
    "def myreadlines(f, newline):\n",
    "  buf = \"\"\n",
    "  while True:\n",
    "    while newline in buf:\n",
    "      pos = buf.index(newline)\n",
    "      yield buf[:pos]\n",
    "      buf = buf[pos + len(newline):]\n",
    "    chunk = f.read(2048)\n",
    "    if not chunk:\n",
    "      yield buf\n",
    "      break\n",
    "    buf += chunk\n",
    "\n",
    "with open('data.txt') as f:\n",
    "  for line in myreadlines(f, \";\"):\n",
    "    temperature.append(line)\n",
    "\n",
    "temperature.remove('')\n",
    "\n",
    "temperature_data = temperature"
   ]
  },
  {
   "cell_type": "code",
   "execution_count": 11,
   "metadata": {
    "collapsed": true
   },
   "outputs": [],
   "source": [
    "country_code = []\n",
    "country_name = []\n",
    "temperatures = []"
   ]
  },
  {
   "cell_type": "code",
   "execution_count": 12,
   "metadata": {
    "collapsed": true
   },
   "outputs": [],
   "source": [
    "for x in temperature_data:\n",
    "    x = ast.literal_eval(x)\n",
    "    country_code.append(x['country_code'])\n",
    "    country_name.append(pycountry.countries.get(alpha_3=x['country_code']).name)\n",
    "    temperatures.append(int(x['temperature']['temp'])-273.15)"
   ]
  },
  {
   "cell_type": "code",
   "execution_count": 13,
   "metadata": {},
   "outputs": [
    {
     "data": {
      "text/plain": [
       "'file:///run/media/thet/TMMT/tmmt/world-map-temperature.html'"
      ]
     },
     "execution_count": 13,
     "metadata": {},
     "output_type": "execute_result"
    }
   ],
   "source": [
    "max_temp = max(temperatures)\n",
    "min_temp = min(temperatures)\n",
    "mean_temp = (max_temp+min_temp)/2\n",
    "mean_temp = sum(temperatures)/len(temperatures)\n",
    "data = [ dict(\n",
    "        type = 'choropleth',\n",
    "        locations = country_code,\n",
    "        z = temperatures,\n",
    "        text = country_name,\n",
    "        colorscale= [\n",
    "        [0, '#0000ff'],\n",
    "        [0.4, '#00ddff'],\n",
    "        [0.8, '#ffff00'],\n",
    "        [1, '#ff0000']\n",
    "      ],\n",
    "        marker = dict(\n",
    "            line = dict (\n",
    "                color = 'rgb(180,180,180)',\n",
    "                width = 0.5\n",
    "            ) ),\n",
    "        colorbar = dict(\n",
    "            autotick = False,\n",
    "            title = 'Temperature (Celcius)'),\n",
    "      ) ]\n",
    "\n",
    "layout = dict(\n",
    "    title = 'Average Temperature In Each Country',\n",
    "    geo = dict(\n",
    "        showframe = False,\n",
    "        showcoastlines = False,\n",
    "        projection = dict(\n",
    "            type = 'Mercator'\n",
    "        )\n",
    "    )\n",
    ")\n",
    "\n",
    "fig = dict( data=data, layout=layout )\n",
    "py.plot( fig, validate=False, filename='world-map-temperature.html' )"
   ]
  },
  {
   "cell_type": "code",
   "execution_count": null,
   "metadata": {
    "collapsed": true
   },
   "outputs": [],
   "source": []
  },
  {
   "cell_type": "code",
   "execution_count": null,
   "metadata": {
    "collapsed": true
   },
   "outputs": [],
   "source": []
  }
 ],
 "metadata": {
  "kernelspec": {
   "display_name": "Python 3",
   "language": "python",
   "name": "python3"
  },
  "language_info": {
   "codemirror_mode": {
    "name": "ipython",
    "version": 3
   },
   "file_extension": ".py",
   "mimetype": "text/x-python",
   "name": "python",
   "nbconvert_exporter": "python",
   "pygments_lexer": "ipython3",
   "version": "3.6.2"
  }
 },
 "nbformat": 4,
 "nbformat_minor": 2
}
